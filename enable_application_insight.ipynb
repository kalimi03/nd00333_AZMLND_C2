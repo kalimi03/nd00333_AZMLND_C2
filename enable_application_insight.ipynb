{
  "cells": [
    {
      "cell_type": "code",
      "source": [
        "from azureml.core import Workspace\r\n",
        "from azureml.core.webservice import Webservice\r\n",
        "\r\n",
        "ws = Workspace.from_config()\r\n",
        "service = Webservice(name = \"best-model-for-deploy\", workspace=ws )\r\n",
        "\r\n",
        "logs = service.get_logs()\r\n",
        "for line in logs.split('\\n'):\r\n",
        "    print(line)\r\n",
        "\r\n",
        "service.update(enable_app_insights = True)"
      ],
      "outputs": [
        {
          "output_type": "stream",
          "name": "stdout",
          "text": "2021-11-20T10:08:11,682936300+00:00 - gunicorn/run \nDynamic Python package installation is disabled.\nStarting HTTP server\n2021-11-20T10:08:11,691607200+00:00 - iot-server/run \n2021-11-20T10:08:11,692623900+00:00 - rsyslog/run \n2021-11-20T10:08:11,699875600+00:00 - nginx/run \nrsyslogd: /azureml-envs/azureml_705720c76ff57b57c77d577152dabb18/lib/libuuid.so.1: no version information available (required by rsyslogd)\nEdgeHubConnectionString and IOTEDGE_IOTHUBHOSTNAME are not set. Exiting...\n2021-11-20T10:08:12,006376300+00:00 - iot-server/finish 1 0\n2021-11-20T10:08:12,008531200+00:00 - Exit code 1 is normal. Not restarting iot-server.\nStarting gunicorn 20.1.0\nListening at: http://127.0.0.1:31311 (73)\nUsing worker: sync\nworker timeout is set to 300\nBooting worker with pid: 100\nSPARK_HOME not set. Skipping PySpark Initialization.\nGenerating new fontManager, this may take some time...\nInitializing logger\n2021-11-20 10:08:13,707 | root | INFO | Starting up app insights client\nlogging socket was found. logging is available.\nlogging socket was found. logging is available.\n2021-11-20 10:08:13,708 | root | INFO | Starting up request id generator\n2021-11-20 10:08:13,708 | root | INFO | Starting up app insight hooks\n2021-11-20 10:08:13,708 | root | INFO | Invoking user's init function\n2021-11-20 10:08:17,340 | root | INFO | Users's init has completed successfully\n2021-11-20 10:08:17,345 | root | INFO | Skipping middleware: dbg_model_info as it's not enabled.\n2021-11-20 10:08:17,345 | root | INFO | Skipping middleware: dbg_resource_usage as it's not enabled.\nGenerating swagger file: /tmp/tmpaquhsmb1\n2021-11-20 10:08:17,350 | root | INFO | Scoring timeout is found from os.environ: 60000 ms\n2021-11-20 10:08:22,698 | root | INFO | 200\n127.0.0.1 - - [20/Nov/2021:10:08:22 +0000] \"GET /swagger.json HTTP/1.0\" 200 3564 \"-\" \"Go-http-client/1.1\"\n2021-11-20 10:10:27,437 | root | INFO | 200\n127.0.0.1 - - [20/Nov/2021:10:10:27 +0000] \"GET /swagger.json HTTP/1.0\" 200 3564 \"-\" \"Go-http-client/1.1\"\n2021-11-20 10:20:53,103 | root | INFO | 200\n127.0.0.1 - - [20/Nov/2021:10:20:53 +0000] \"GET /swagger.json HTTP/1.0\" 200 3564 \"-\" \"Go-http-client/1.1\"\n2021-11-20 10:22:42,959 | root | INFO | 200\n127.0.0.1 - - [20/Nov/2021:10:22:42 +0000] \"GET /swagger.json HTTP/1.0\" 200 3564 \"-\" \"Go-http-client/1.1\"\n2021-11-20 10:24:20,451 | root | INFO | 200\n127.0.0.1 - - [20/Nov/2021:10:24:20 +0000] \"GET /swagger.json HTTP/1.0\" 200 3564 \"-\" \"Go-http-client/1.1\"\n2021-11-20 10:25:31,480 | root | INFO | 200\n127.0.0.1 - - [20/Nov/2021:10:25:31 +0000] \"GET /swagger.json HTTP/1.0\" 200 3564 \"-\" \"Go-http-client/1.1\"\n\n"
        }
      ],
      "execution_count": 7,
      "metadata": {
        "gather": {
          "logged": 1637403934016
        }
      }
    }
  ],
  "metadata": {
    "kernelspec": {
      "name": "python3-azureml",
      "language": "python",
      "display_name": "Python 3.6 - AzureML"
    },
    "language_info": {
      "name": "python",
      "version": "3.6.9",
      "mimetype": "text/x-python",
      "codemirror_mode": {
        "name": "ipython",
        "version": 3
      },
      "pygments_lexer": "ipython3",
      "nbconvert_exporter": "python",
      "file_extension": ".py"
    },
    "kernel_info": {
      "name": "python3-azureml"
    },
    "nteract": {
      "version": "nteract-front-end@1.0.0"
    }
  },
  "nbformat": 4,
  "nbformat_minor": 2
}